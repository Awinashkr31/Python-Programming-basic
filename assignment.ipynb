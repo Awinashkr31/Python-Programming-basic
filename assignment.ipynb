{
 "cells": [
  {
   "cell_type": "code",
   "execution_count": 3,
   "id": "11cf6e47-08f9-4f27-92d0-8d272b40bfb0",
   "metadata": {},
   "outputs": [
    {
     "name": "stdout",
     "output_type": "stream",
     "text": [
      "Object `Language` not found.\n"
     ]
    }
   ],
   "source": [
    "1. Who developed Python Programming Language?\n",
    "answer_1 = \"Python was developed by Guido van Rossum and first released in 1991\""
   ]
  },
  {
   "cell_type": "code",
   "execution_count": 10,
   "id": "6300fc1d-da0b-4147-8e1a-fdcce0b43fd8",
   "metadata": {},
   "outputs": [
    {
     "name": "stdout",
     "output_type": "stream",
     "text": [
      "Object `support` not found.\n"
     ]
    }
   ],
   "source": [
    "2. Which type of Programming does Python support?\n",
    "answer_2 = \"\"\" Python is a multi paradigm programming language that supports: \n",
    "\n",
    "            Object-Oriented Programming (OOP) \n",
    "            Functional Programming (FP)\n",
    "            Procedural Programming\n",
    "            Imperative Programming\n",
    "  It provides a balance between simplicity and expressiveness, making it a great language for both scripting and complex software development.\"\"\""
   ]
  },
  {
   "cell_type": "code",
   "execution_count": 11,
   "id": "a8e64a41-e705-4b26-b363-ae351d1d7f29",
   "metadata": {},
   "outputs": [
    {
     "name": "stdout",
     "output_type": "stream",
     "text": [
      "Object `identifiers` not found.\n"
     ]
    }
   ],
   "source": [
    "3. Is Python case sensitive when dealing with identifiers?\n",
    "answer_3 = \"\"\"Yes, Python is case sensitive when dealing with identifiers (such as variable names, function names, etc.).\n",
    "\n",
    "           For example, the names \"variable_1\" and \"Variable_1\" would be treated as two separate and distinct identifiers in Python.\"\"\""
   ]
  },
  {
   "cell_type": "code",
   "execution_count": 15,
   "id": "0b2b7f64-f26e-4df9-8d37-178f1fc48e28",
   "metadata": {},
   "outputs": [
    {
     "data": {
      "text/plain": [
       "\u001b[0;31mDocstring:\u001b[0m Alias for `%%writefile`.\n",
       "\u001b[0;31mFile:\u001b[0m      /opt/conda/lib/python3.10/site-packages/IPython/core/magic.py\n"
      ]
     },
     "metadata": {},
     "output_type": "display_data"
    }
   ],
   "source": [
    "4. What is the correct extension of the Python file?\n",
    "answer_4 = \"\"\" The correct extension for a Python file is '.py'. For example,\n",
    "           if you have a Python script named example, you would save it as example.py. \"\"\""
   ]
  },
  {
   "cell_type": "code",
   "execution_count": 16,
   "id": "7a9c3f12-af51-408a-872d-3ac69a002aec",
   "metadata": {},
   "outputs": [
    {
     "name": "stdout",
     "output_type": "stream",
     "text": [
      "Object `interpreted` not found.\n"
     ]
    }
   ],
   "source": [
    "5. Is Python code compiled or interpreted?\n",
    "answer_5 = \"\"\" Python code is interpreted, not compiled.\n",
    "\n",
    "                   This means that the source code is executed line by line by the Python interpreter,\n",
    "            rather than being compiled into machine code prior to execution.\n",
    "            This makes Python a popular choice for scripting, prototyping,\n",
    "            and interactive development, as it allows for faster turnaround times and easier debugging compared to compiled languages. \"\"\""
   ]
  },
  {
   "cell_type": "code",
   "execution_count": 18,
   "id": "386231f8-f946-4ed4-99a3-94bbbaf0fdf4",
   "metadata": {},
   "outputs": [
    {
     "name": "stdout",
     "output_type": "stream",
     "text": [
      "Object `language` not found.\n"
     ]
    }
   ],
   "source": [
    "6. Name a few blocks of code used to define in Python language?\n",
    "answer_6 = \"\"\" 1. Functions: A function is a block of organized, reusable code that is used to perform a single,\n",
    "                  related action. Functions can accept input parameters and return values.\n",
    "                  \n",
    "               2. Classes: A class is a blueprint for creating objects. It defines a set of attributes\n",
    "                  and methods that describe the behavior of an object.\n",
    "\n",
    "               3. Loops: Loops are blocks of code that repeatedly execute until a specified condition is met.\n",
    "                  Python has two loop constructs: for loops and while loops.\n",
    "\n",
    "               4. Conditional statements: Conditional statements are blocks of code that are executed \n",
    "                  only if a specified condition is met. Python has two main conditional statements: if statements and if-else statements. \"\"\""
   ]
  },
  {
   "cell_type": "code",
   "execution_count": 34,
   "id": "99d5607d-da9c-49ba-8506-8703f7c84192",
   "metadata": {},
   "outputs": [
    {
     "name": "stdout",
     "output_type": "stream",
     "text": [
      "Object `Python` not found.\n"
     ]
    }
   ],
   "source": [
    "7. State a character used to give single-line comments in Python?\n",
    "answer_7 = \"\"\"  Anything written after the hash symbol on a line will be ignored by the Python interpreter and treated as a comment. \n",
    "            # the hash symbol # is used to give single-line comments. For example: \"\"\"\n",
    "          \n",
    "          # This is a single-line comment \n",
    "          "
   ]
  },
  {
   "cell_type": "code",
   "execution_count": 2,
   "id": "3800c4af-832c-43ff-bd18-38785cf9e0e0",
   "metadata": {},
   "outputs": [
    {
     "name": "stdout",
     "output_type": "stream",
     "text": [
      "Object `on` not found.\n"
     ]
    }
   ],
   "source": [
    "8. Mention functions which can help us to find the version of python that we are currently working on?\n",
    "answer_8 = \"\"\" You can use the following functions to find the version of Python that you are currently working on:\n",
    "          1. sys.version: This is a string that gives information about the version of Python, including the release number,\n",
    "             build date, and compiler used.\n",
    "\n",
    "          2. sys.version_info: This is a named tuple that provides version information as separate fields, including the major,\n",
    "             minor, and micro version numbers.\n",
    "\n",
    "          Here's an example: \"\"\"\n",
    "         ###   import sys\n",
    "         #   print(sys.version)\n",
    "         #  print(sys.version_info) ###\n"
   ]
  },
  {
   "cell_type": "code",
   "execution_count": 37,
   "id": "160e0b28-7d36-4062-82bf-baab8a62c71e",
   "metadata": {},
   "outputs": [],
   "source": [
    "9. # Python supports the creation of anonymous functions at runtime, using a construct called\n",
    "answer_9 = \"\"\" Lambda functions are small, anonymous functions that are defined using the \"lambda\" keyword.\n",
    "          They can take any number of arguments but can only have one expression. Lambda functions are commonly used when a small,\n",
    "          throw-away function is required, such as when passing a function as an argument to another function.\n",
    "\n",
    "          Here's an example: \"\"\"\n",
    "       #  x = lambda a : a + 10\n",
    "       #  print(x(5)) # Output: 15\n"
   ]
  },
  {
   "cell_type": "code",
   "execution_count": 40,
   "id": "593e7b95-d571-4a6f-893c-5478bca3dd7c",
   "metadata": {},
   "outputs": [
    {
     "data": {
      "text/plain": [
       "\u001b[0;31mDocstring:\u001b[0m\n",
       "%%python script magic\n",
       "\n",
       "Run cells with python in a subprocess.\n",
       "\n",
       "This is a shortcut for `%%script python`\n",
       "\u001b[0;31mFile:\u001b[0m      /opt/conda/lib/python3.10/site-packages/IPython/core/magics/script.py\n"
      ]
     },
     "metadata": {},
     "output_type": "display_data"
    }
   ],
   "source": [
    "10. What does pip stand for python?\n",
    "answer_10 = \"\"\" pip stands for \"Pip Installs Packages\".\n",
    "\n",
    "        It is a package management system used to install and manage software packages written in Python.\n",
    "        Pip makes it easy to install and manage packages from the Python Package Index (PyPI) and other package indexes,\n",
    "        as well as from local projects. Pip allows you to install, upgrade, and uninstall packages with just a few simple commands,\n",
    "        making it a powerful and convenient tool for managing your Python environment. \"\"\""
   ]
  },
  {
   "cell_type": "code",
   "execution_count": 41,
   "id": "0ce9c6d5-81c2-4248-a6ad-fc89fadca10a",
   "metadata": {},
   "outputs": [
    {
     "data": {
      "text/plain": [
       "\u001b[0;31mDocstring:\u001b[0m\n",
       "%%python script magic\n",
       "\n",
       "Run cells with python in a subprocess.\n",
       "\n",
       "This is a shortcut for `%%script python`\n",
       "\u001b[0;31mFile:\u001b[0m      /opt/conda/lib/python3.10/site-packages/IPython/core/magics/script.py\n"
      ]
     },
     "metadata": {},
     "output_type": "display_data"
    }
   ],
   "source": [
    "11. Mention a few built-in functions in python?\n",
    "answer_11 = \"\"\" Here are a few commonly used built-in functions in Python:\n",
    "\n",
    "           1. print(): Prints output to the console.\n",
    "\n",
    "           2. len(): Returns the length of a list, string, or any other iterable.\n",
    "\n",
    "           3. type(): Returns the type of an object.\n",
    "\n",
    "           4. sum(): Returns the sum of a list of numbers.\n",
    "\n",
    "           5. min(): Returns the smallest item in a list or the smallest of two or more arguments.\n",
    "\n",
    "           6. max(): Returns the largest item in a list or the largest of two or more arguments.\n",
    "\n",
    "           7. sorted(): Returns a sorted list.\n",
    "\n",
    "           8. int(): Converts a number or string to an integer.\n",
    "\n",
    "           9. float(): Converts a number or string to a floating-point number.\n",
    "\n",
    "           10. str(): Converts any object to a string.\n",
    "\n",
    "     This is just a small selection of the many built-in functions available in Python.\n",
    "     It's a good idea to familiarize yourself with the built-in functions and their uses,\n",
    "     as they can save you time and make your code more concise. \"\"\""
   ]
  },
  {
   "cell_type": "code",
   "execution_count": 3,
   "id": "0e7dd6f1-4c63-417d-912a-1409102a57ec",
   "metadata": {},
   "outputs": [
    {
     "name": "stdout",
     "output_type": "stream",
     "text": [
      "Object `Python` not found.\n"
     ]
    }
   ],
   "source": [
    "12. What is the maximum possible length of an identifier in Python?\n",
    "answer_12 = \"\"\" There is no theoretical limit to the length of an identifier in Python, but in practice,\n",
    "            the maximum length is determined by the amount of memory available on your system.\n",
    "\n",
    "              An identifier can be a variable name, function name, class name, or any other name used to identify a module,\n",
    "          object, or other item in Python. In general, you should choose names that are meaningful and descriptive,\n",
    "          but not so long that they are difficult to type or remember. \"\"\""
   ]
  },
  {
   "cell_type": "code",
   "execution_count": 1,
   "id": "d2026683-5d5a-4064-8876-4643a6e101d2",
   "metadata": {},
   "outputs": [
    {
     "name": "stdout",
     "output_type": "stream",
     "text": [
      "Object `Python` not found.\n"
     ]
    }
   ],
   "source": [
    "13. What are the benefits of using Python?\n",
    "answer_13 = \"\"\" There are many benefits to using Python as a programming language. Some of the most significant benefits include:\n",
    "\n",
    "    1. Easy to learn and use: Python has a simple, concise syntax that is easy to learn and use,\n",
    "       even for people with no prior programming experience.\n",
    "\n",
    "    2. Versatile: Python can be used for a wide range of applications, including web development, data analysis,\n",
    "       machine learning, scientific computing, and more.\n",
    "\n",
    "    3. Large community: Python has a large and active community of users, which means that you can easily find help and support,\n",
    "       as well as a wealth of libraries and tools for almost any task.\n",
    "\n",
    "    4. Dynamic Typing: Python uses dynamic typing, which means that you can change the type of a variable at runtime,\n",
    "       making it more flexible and easier to work with.\n",
    "\n",
    "    5. Interoperability: Python can be easily integrated with other programming languages and systems,\n",
    "       making it a great choice for building complex systems.\n",
    "\n",
    "    6. Powerful standard library: Python comes with a large and powerful standard library that includes modules for many common tasks,\n",
    "       such as connecting to the web, reading and writing files, and working with data.\n",
    "\n",
    "    7. Readability: Python code is designed to be highly readable, which makes it easier to understand and maintain,\n",
    "       even for large projects.\n",
    "\n",
    "    8. Growing popularity: Python has seen growing popularity in recent years,\n",
    "       which means that there is a growing demand for Python developers, making it a great choice for a career in programming.\n",
    "\n",
    "       These are just a few of the many benefits of using Python. Whether you're a beginner or an experienced programmer,\n",
    " Python is a great choice for a wide range of projects and applications. \"\"\"\n",
    "\n",
    "\n",
    "\n"
   ]
  },
  {
   "cell_type": "code",
   "execution_count": 1,
   "id": "aa7be688-8452-4f83-a66e-ae7ee84e802e",
   "metadata": {},
   "outputs": [
    {
     "name": "stdout",
     "output_type": "stream",
     "text": [
      "Object `Python` not found.\n"
     ]
    }
   ],
   "source": [
    "14. How is memory managed in Python?\n",
    "answer_14 = \"\"\" In Python, memory management is managed by the Python memory manager and performed automatically through \n",
    "            a process called reference counting. The memory manager keeps track of the number of references to each object in memory and frees\n",
    "            memory occupied by objects that are no longer referenced.\n",
    "    Python also includes a garbage collector that periodically frees up memory occupied by objects that are no longer accessible from the application,\n",
    "    even if references to those objects still exist. \"\"\""
   ]
  },
  {
   "cell_type": "code",
   "execution_count": 3,
   "id": "ea45fe92-65b4-4c8a-9940-d84ef167548a",
   "metadata": {},
   "outputs": [
    {
     "name": "stdout",
     "output_type": "stream",
     "text": [
      "Object `variables` not found.\n"
     ]
    }
   ],
   "source": [
    "15. How to install Python on Windows and set path variables?\n",
    "answer_15 = \"\"\" Here are the steps to install Python on Windows and set the path variables:\n",
    "\n",
    "     1. Download the Python installer from the official website (https://www.python.org/downloads/)\n",
    "     2. Run the installer and follow the instructions to complete the installation process.\n",
    "     3. Open the Command Prompt (press Windows key + X and then select Command Prompt).\n",
    "     4. Type the following command and press Enter: python. This will start the Python interpreter and show its version, confirming that Python is installed.\n",
    "     5. To set the path variables, open the Start menu and search for \"Environment Variables\".\n",
    "     6. Click on \"Edit the system environment variables\".\n",
    "     7. Click on the \"Environment Variables\" button.\n",
    "     8. Under \"System Variables\", scroll down and find the \"Path\" variable, then click on \"Edit\".\n",
    "     9. Click \"New\" and add the path to your Python installation (e.g., C:\\PythonXX\\ where XX is your Python version number).\n",
    "     10. Restart the Command Prompt or open a new Command Prompt window for the changes to take effect.\n",
    "\n",
    "     Now you should be able to run Python from the Command Prompt by typing python and the path variable will allow you to run\n",
    "     Python scripts from any directory in the Command Prompt. \"\"\""
   ]
  },
  {
   "cell_type": "code",
   "execution_count": 4,
   "id": "88886de4-a78b-496d-ace8-0a03a2c4210e",
   "metadata": {},
   "outputs": [
    {
     "data": {
      "text/plain": [
       "\u001b[0;31mDocstring:\u001b[0m\n",
       "%%python script magic\n",
       "\n",
       "Run cells with python in a subprocess.\n",
       "\n",
       "This is a shortcut for `%%script python`\n",
       "\u001b[0;31mFile:\u001b[0m      /opt/conda/lib/python3.10/site-packages/IPython/core/magics/script.py\n"
      ]
     },
     "metadata": {},
     "output_type": "display_data"
    }
   ],
   "source": [
    "16. Is indentation required in python?\n",
    "answer_16 = \"\"\" Yes, indentation is required in Python and is used to define code blocks. In Python, whitespace at the beginning \n",
    "            of a line is used to determine the block structure of the program. For example, code within a loop or a function is indented\n",
    "            under the loop or function definition to indicate that it belongs to that block. A consistent and meaningful use of indentation\n",
    "            helps to improve the readability of the code. \"\"\""
   ]
  }
 ],
 "metadata": {
  "kernelspec": {
   "display_name": "Python 3 (ipykernel)",
   "language": "python",
   "name": "python3"
  },
  "language_info": {
   "codemirror_mode": {
    "name": "ipython",
    "version": 3
   },
   "file_extension": ".py",
   "mimetype": "text/x-python",
   "name": "python",
   "nbconvert_exporter": "python",
   "pygments_lexer": "ipython3",
   "version": "3.10.8"
  }
 },
 "nbformat": 4,
 "nbformat_minor": 5
}
